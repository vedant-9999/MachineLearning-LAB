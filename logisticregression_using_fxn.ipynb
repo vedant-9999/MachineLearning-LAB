{
  "nbformat": 4,
  "nbformat_minor": 0,
  "metadata": {
    "colab": {
      "provenance": []
    },
    "kernelspec": {
      "name": "python3",
      "display_name": "Python 3"
    },
    "language_info": {
      "name": "python"
    }
  },
  "cells": [
    {
      "cell_type": "code",
      "execution_count": null,
      "metadata": {
        "colab": {
          "base_uri": "https://localhost:8080/"
        },
        "id": "zpfnONsu3gWF",
        "outputId": "c9d3ab38-e96a-4ee1-a2c1-cab503304960"
      },
      "outputs": [
        {
          "output_type": "stream",
          "name": "stdout",
          "text": [
            "Beta0 (intercept): -15.285987409818853\n",
            "Beta1 (slope): 4.410654157814558\n",
            "Final Cost: 0.042776114932809244\n",
            "Predictions: [1.89188426e-05 1.55506898e-03 1.13646315e-01 9.13459713e-01\n",
            " 9.98850506e-01]\n"
          ]
        }
      ],
      "source": [
        "import numpy as np\n",
        "\n",
        "X = np.array([1, 2, 3, 4, 5])\n",
        "y = np.array([0, 0, 0, 1, 1])\n",
        "m = len(X)\n",
        "\n",
        "def sigmoid(z):\n",
        "    return 1 / (1 + np.exp(-z))\n",
        "\n",
        "def hypothesis(beta0, beta1, X):\n",
        "    return sigmoid(beta0 + beta1 * X)\n",
        "\n",
        "def cost(beta0, beta1, X, y):\n",
        "    h = hypothesis(beta0, beta1, X)\n",
        "    return -(1/m) * np.sum(y * np.log(h) + (1 - y) * np.log(1 - h))\n",
        "\n",
        "\n",
        "def gradients(beta0, beta1, X, y):\n",
        "    h = hypothesis(beta0, beta1, X)\n",
        "    d_beta0 = (1/m) * np.sum(h - y)\n",
        "    d_beta1 = (1/m) * np.sum((h - y) * X)\n",
        "    return d_beta0, d_beta1\n",
        "\n",
        "def logistic_regression(X, y, alpha=0.1, epochs=1000):\n",
        "    beta0, beta1 = 0, 0\n",
        "    for _ in range(epochs):\n",
        "        d_beta0, d_beta1 = gradients(beta0, beta1, X, y)\n",
        "        beta0 -= alpha * d_beta0\n",
        "        beta1 -= alpha * d_beta1\n",
        "    return beta0, beta1\n",
        "\n",
        "beta0, beta1 = logistic_regression(X, y, alpha=0.1, epochs=10000)\n",
        "\n",
        "print(\"Beta0 (intercept):\", beta0)\n",
        "print(\"Beta1 (slope):\", beta1)\n",
        "print(\"Final Cost:\", cost(beta0, beta1, X, y))\n",
        "print(\"Predictions:\", hypothesis(beta0, beta1, X))\n",
        "\n"
      ]
    },
    {
      "cell_type": "code",
      "source": [],
      "metadata": {
        "id": "GNvq9zbv5x6a"
      },
      "execution_count": null,
      "outputs": []
    }
  ]
}